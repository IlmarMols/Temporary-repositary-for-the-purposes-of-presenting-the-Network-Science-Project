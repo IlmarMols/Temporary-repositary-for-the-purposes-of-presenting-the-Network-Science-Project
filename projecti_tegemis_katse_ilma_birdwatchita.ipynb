{
 "cells": [
  {
   "cell_type": "code",
   "execution_count": 2,
   "id": "d65072e2",
   "metadata": {},
   "outputs": [
    {
     "name": "stdout",
     "output_type": "stream",
     "text": [
      "📝 Community Notes (esimesed 3):\n",
      "\n"
     ]
    },
    {
     "ename": "KeyError",
     "evalue": "'tweetId'",
     "output_type": "error",
     "traceback": [
      "\u001b[1;31m---------------------------------------------------------------------------\u001b[0m",
      "\u001b[1;31mKeyError\u001b[0m                                  Traceback (most recent call last)",
      "Cell \u001b[1;32mIn[2], line 33\u001b[0m\n\u001b[0;32m     30\u001b[0m \u001b[38;5;28mprint\u001b[39m(\u001b[38;5;124m\"\u001b[39m\u001b[38;5;124m📝 Community Notes (esimesed 3):\u001b[39m\u001b[38;5;130;01m\\n\u001b[39;00m\u001b[38;5;124m\"\u001b[39m)\n\u001b[0;32m     32\u001b[0m \u001b[38;5;28;01mfor\u001b[39;00m i, note \u001b[38;5;129;01min\u001b[39;00m \u001b[38;5;28menumerate\u001b[39m(notes[:\u001b[38;5;241m3\u001b[39m]):\n\u001b[1;32m---> 33\u001b[0m     tweet_url \u001b[38;5;241m=\u001b[39m \u001b[38;5;124mf\u001b[39m\u001b[38;5;124m\"\u001b[39m\u001b[38;5;124mhttps://twitter.com/i/web/status/\u001b[39m\u001b[38;5;132;01m{\u001b[39;00m\u001b[43mnote\u001b[49m\u001b[43m[\u001b[49m\u001b[38;5;124;43m'\u001b[39;49m\u001b[38;5;124;43mtweetId\u001b[39;49m\u001b[38;5;124;43m'\u001b[39;49m\u001b[43m]\u001b[49m\u001b[38;5;132;01m}\u001b[39;00m\u001b[38;5;124m\"\u001b[39m\n\u001b[0;32m     34\u001b[0m     \u001b[38;5;28mprint\u001b[39m(\u001b[38;5;124mf\u001b[39m\u001b[38;5;124m\"\u001b[39m\u001b[38;5;124m🔹 \u001b[39m\u001b[38;5;132;01m{\u001b[39;00mi\u001b[38;5;241m+\u001b[39m\u001b[38;5;241m1\u001b[39m\u001b[38;5;132;01m}\u001b[39;00m\u001b[38;5;124m. Säutsu link: \u001b[39m\u001b[38;5;132;01m{\u001b[39;00mtweet_url\u001b[38;5;132;01m}\u001b[39;00m\u001b[38;5;124m\"\u001b[39m)\n\u001b[0;32m     35\u001b[0m     \u001b[38;5;28mprint\u001b[39m(\u001b[38;5;124mf\u001b[39m\u001b[38;5;124m\"\u001b[39m\u001b[38;5;124m📌 Märkus: \u001b[39m\u001b[38;5;132;01m{\u001b[39;00mnote\u001b[38;5;241m.\u001b[39mget(\u001b[38;5;124m'\u001b[39m\u001b[38;5;124msummary\u001b[39m\u001b[38;5;124m'\u001b[39m,\u001b[38;5;250m \u001b[39m\u001b[38;5;124m'\u001b[39m\u001b[38;5;124m[Puudub kokkuvõte]\u001b[39m\u001b[38;5;124m'\u001b[39m)\u001b[38;5;132;01m}\u001b[39;00m\u001b[38;5;124m\"\u001b[39m)\n",
      "\u001b[1;31mKeyError\u001b[0m: 'tweetId'"
     ]
    }
   ],
   "source": [
    "import requests\n",
    "import json\n",
    "\n",
    "# URL-id\n",
    "notes_url = \"https://github.com/andylolz/community-notes-explorer/raw/gh-pages/data/notes.json\"\n",
    "meta_url = \"https://github.com/andylolz/community-notes-explorer/raw/gh-pages/_data/meta.json\"\n",
    "\n",
    "# Failide nimed\n",
    "notes_file = \"notes.json\"\n",
    "meta_file = \"meta.json\"\n",
    "\n",
    "# Lae alla notes.json\n",
    "notes_response = requests.get(notes_url)\n",
    "with open(notes_file, \"wb\") as f:\n",
    "    f.write(notes_response.content)\n",
    "\n",
    "# Lae alla meta.json\n",
    "meta_response = requests.get(meta_url)\n",
    "with open(meta_file, \"wb\") as f:\n",
    "    f.write(meta_response.content)\n",
    "\n",
    "# Lae andmed mälu sisse\n",
    "with open(notes_file, \"r\", encoding=\"utf-8\") as f:\n",
    "    notes = json.load(f)\n",
    "\n",
    "with open(meta_file, \"r\", encoding=\"utf-8\") as f:\n",
    "    meta = json.load(f)\n",
    "\n",
    "# Väljasta esimesed 3 Community Note’i ja nende seotud tweetid\n",
    "print(\"📝 Community Notes (esimesed 3):\\n\")\n",
    "\n",
    "for i, note in enumerate(notes[:3]):\n",
    "    tweet_url = f\"https://twitter.com/i/web/status/{note['tweetId']}\"\n",
    "    print(f\"🔹 {i+1}. Säutsu link: {tweet_url}\")\n",
    "    print(f\"📌 Märkus: {note.get('summary', '[Puudub kokkuvõte]')}\")\n",
    "    print(f\"👥 Märkuse autor: {note.get('participantId')}\")\n",
    "    print(f\"📅 Loodud: {note.get('createdAt')}\")\n",
    "    print(f\"—\" * 50)\n"
   ]
  },
  {
   "cell_type": "code",
   "execution_count": 8,
   "id": "04c54e3f",
   "metadata": {},
   "outputs": [
    {
     "name": "stdout",
     "output_type": "stream",
     "text": [
      "[1] notes_df: 5767 rida\n",
      "[2] twitter_df: 4608 rida\n",
      "[3] Pärast merge notes + twitter: 0 rida\n",
      "[4] engagement_df: 206295 rida\n",
      "[5] Pärast merge eelmise + engagement: 0 rida\n",
      "[6] Fail salvestatud: merged_notes_data.csv\n",
      "0    1929694788510798080\n",
      "1    1929632247092859247\n",
      "2    1929576973874999696\n",
      "3    1929563391854522661\n",
      "4    1929513596167336253\n",
      "Name: tweet_id, dtype: object\n",
      "0    1762265250987200925\n",
      "1    1762265102085165546\n",
      "2    1762264840154857577\n",
      "3    1762264888053821624\n",
      "4    1762264739139510735\n",
      "Name: tweet_id, dtype: object\n",
      "0    682712873332805633\n",
      "1    682713045357998080\n",
      "2    682713219375476736\n",
      "3    682713436967579648\n",
      "4    682714048199311366\n",
      "Name: tweet_id, dtype: object\n"
     ]
    }
   ],
   "source": [
    "import json\n",
    "import pandas as pd\n",
    "\n",
    "# === 1. Lae notes.json ===\n",
    "with open(\"notes.json\", \"r\", encoding=\"utf-8\") as f:\n",
    "    notes_data = json.load(f)\n",
    "\n",
    "notes_df = pd.DataFrame(notes_data)\n",
    "notes_df[\"tweet_id\"] = notes_df[\"tweet_id\"].astype(str)\n",
    "print(f\"[1] notes_df: {notes_df.shape[0]} rida\")\n",
    "\n",
    "# === 2. Lae Twitter_New_Dataset.json ===\n",
    "with open(\"Twitter_New_Dataset.json\", \"r\", encoding=\"utf-8\") as f:\n",
    "    twitter_data = json.load(f)\n",
    "\n",
    "twitter_df = pd.json_normalize(twitter_data)\n",
    "twitter_df[\"tweet_id\"] = twitter_df[\"id\"].astype(str)\n",
    "print(f\"[2] twitter_df: {twitter_df.shape[0]} rida\")\n",
    "\n",
    "# === 3. Liida notes_df ja twitter_df säutsu ID alusel ===\n",
    "merged_1 = pd.merge(notes_df, twitter_df, on=\"tweet_id\", how=\"inner\")\n",
    "print(f\"[3] Pärast merge notes + twitter: {merged_1.shape[0]} rida\")\n",
    "\n",
    "# === 4. Lae engagement CSV ja puhasta tweet_id (eemalda 'tw-' eesliide) ===\n",
    "engagement_df = pd.read_csv(\"Tweets_and_User_Engagement.csv\", dtype=str)\n",
    "engagement_df[\"tweet_id\"] = engagement_df[\"TweetID\"].str.replace(\"tw-\", \"\", regex=False)\n",
    "print(f\"[4] engagement_df: {engagement_df.shape[0]} rida\")\n",
    "\n",
    "# === 5. Liida eelmise tulemusega ka engagement_df ===\n",
    "final_merged = pd.merge(merged_1, engagement_df, on=\"tweet_id\", how=\"inner\")\n",
    "print(f\"[5] Pärast merge eelmise + engagement: {final_merged.shape[0]} rida\")\n",
    "\n",
    "# === 6. Salvesta lõplik andmestik uude faili ===\n",
    "final_merged.to_csv(\"merged_notes_data.csv\", index=False, encoding=\"utf-8\")\n",
    "print(\"[6] Fail salvestatud: merged_notes_data.csv\")\n",
    "\n",
    "\n",
    "print(notes_df[\"tweet_id\"].head())\n",
    "print(twitter_df[\"tweet_id\"].head())\n",
    "print(engagement_df[\"tweet_id\"].head())"
   ]
  },
  {
   "cell_type": "code",
   "execution_count": 10,
   "id": "47a517c9",
   "metadata": {},
   "outputs": [
    {
     "name": "stdout",
     "output_type": "stream",
     "text": [
      "Kattuvad IDsid notes_df ja twitter_df vahel:\n",
      "set()\n",
      "Kattuvad IDsid notes_df ja engagement_df vahel:\n",
      "set()\n",
      "Kattuvad IDsid twitter_df ja engagement_df vahel:\n",
      "set()\n",
      "Notes_df tweet_id näited: ['1929694788510798080', '1929632247092859247', '1929576973874999696', '1929563391854522661', '1929513596167336253', '1929608526160077139', '1929489015234871684', '1929517357019381943', '1929529534488977667', '1929671962843865446']\n",
      "Twitter_df tweet_id näited: ['1762265250987200925', '1762265102085165546', '1762264840154857577', '1762264888053821624', '1762264739139510735', '1762264372179616209', '1762264205397238201', '1762264135511797881', '1762263858713108905', '1762263752462786845']\n",
      "Engagement_df tweet_id näited: ['682712873332805633', '682713045357998080', '682713219375476736', '682713436967579648', '682714048199311366', '682714583044243456', '682715526435454977', '682717209043402753', '682717967965110273', '682718048080519168']\n"
     ]
    }
   ],
   "source": [
    "print(\"Kattuvad IDsid notes_df ja twitter_df vahel:\")\n",
    "print(set(notes_df['tweet_id']).intersection(set(twitter_df['tweet_id'])))\n",
    "\n",
    "print(\"Kattuvad IDsid notes_df ja engagement_df vahel:\")\n",
    "print(set(notes_df['tweet_id']).intersection(set(engagement_df['tweet_id'])))\n",
    "\n",
    "print(\"Kattuvad IDsid twitter_df ja engagement_df vahel:\")\n",
    "print(set(twitter_df['tweet_id']).intersection(set(engagement_df['tweet_id'])))\n",
    "\n",
    "print(\"Notes_df tweet_id näited:\", notes_df['tweet_id'].head(10).tolist())\n",
    "print(\"Twitter_df tweet_id näited:\", twitter_df['tweet_id'].head(10).tolist())\n",
    "print(\"Engagement_df tweet_id näited:\", engagement_df['tweet_id'].head(10).tolist())\n"
   ]
  },
  {
   "cell_type": "code",
   "execution_count": 13,
   "id": "ab8aa157",
   "metadata": {},
   "outputs": [
    {
     "name": "stdout",
     "output_type": "stream",
     "text": [
      "notes.json esimese 2 kirjet:\n",
      "[1] {'dl': 1, 'lang': 'ja', 'tweet': '毎週、自治体がコロナの感染状況を報告してますが、定点観測は誤魔化しです\\n１医療機関あたり何人と言われても、全体で何人感染者がいるか全くわかりません\\n患者の総数や下水中のウイルス量を調べなければ感染状況はわかりません\\n定点観測なんてやってるのは日本と韓国くらいです', 'tweet_created_at': '2025-06-03T00:21:04.000Z', 'tweet_id': '1929694788510798080', 'user': 'robin1918081', 'user_id': '1743360349917843456', 'notes': [{'created_at': '2025-06-03T01:03:36+00:00', 'note_id': '1929705493544718542', 'reasons': [1, 3], 'summary': '誤った情報を含むポストです。    全数把握をせず、定点把握のようにトレンド監視に移行した国や報告を停止した国はいくつもあります。    特に米国は2025年の症例定義では、個別の症例報告からトレンド監視に移行しており、全数把握は行っていません。  <a target=\"_blank\" href=\"https://ndc.services.cdc.gov/case-definitions/coronavirus-disease-2019-2025/\">https://ndc.services.cdc.gov/case-definitio…</a>'}]}\n",
      "[2] {'dl': 1, 'lang': 'de', 'tweet': 'Haben sich Klimakleber schon am Fuße des #Ätna aus Protest festgeklebt um gegen seinen CO2 Austoß zu protestieren?\\nDer Vulkan versaut mit seinem Ausbruch ja schließlich Deutschlands Klimabilanz mit der wir im Alleingang die Welt retten wollten. 🤷🏻\\u200d♂️ https://t.co/HzzXqBrjf0', 'tweet_created_at': '2025-06-02T20:12:33.000Z', 'tweet_id': '1929632247092859247', 'user': 'DerUnglaeubige', 'user_id': '1291050586788560896', 'notes': [{'created_at': '2025-06-03T01:00:21+00:00', 'note_id': '1929704677303529962', 'reasons': [1, 3, 4, 7], 'summary': 'Die Menschheit stößt pro Jahr deutlich mehr CO2 aus als alle Vulkane zusammen. Der Vulkanausbruch zerstört also nicht die Klimaschutzmaßnahmen. (<a target=\"_blank\" href=\"https://faktencheck.afp.com/doc.afp.com.36EN2Z6)\">https://faktencheck.afp.com/doc.afp.com.36…</a> '}]}\n",
      "\n",
      "\n",
      "Twitter_New_Dataset.json esimese 2 kirjet:\n",
      "[1] {'type': 'tweet', 'id': '1762265250987200925', 'url': 'https://x.com/FmGuerralves/status/1762265250987200925', 'twitterUrl': 'https://twitter.com/FmGuerralves/status/1762265250987200925', 'text': '\"Historic visit by French Minister for Home Affairs &amp; Overseas Territories, @GDarmanin, to Australia, marking a new chapter in #France-#Australia cooperation. Engaging discussions on climate resilience in Pacific, cybercrime, civil protection, and police collaboration. 🇫🇷🇦🇺 https://t.co/vU1qCHouDl', 'retweetCount': 0, 'replyCount': 0, 'likeCount': 1, 'quoteCount': 0, 'viewCount': 25, 'createdAt': 'Mon Feb 26 23:55:51 +0000 2024', 'lang': 'en', 'bookmarkCount': 0, 'isReply': False, 'author': {'type': 'user', 'userName': 'FmGuerralves', 'url': 'https://x.com/FmGuerralves', 'twitterUrl': 'https://twitter.com/FmGuerralves', 'id': '940012138738827264', 'name': 'Fernando Guerra Alves', 'isVerified': False, 'profilePicture': 'https://pbs.twimg.com/profile_images/1401085475763351553/18wsXFtB_normal.jpg', 'description': 'Govt Relations & Policy Strategist | Specializing in Industry and Tech | ASEAN OCEANIA Market Expert | Multicultural Leadership Advocate', 'location': 'Sydney, New South Wales', 'followers': 51, 'following': 174, 'status': '', 'canDm': False, 'canMediaTag': True, 'createdAt': 'Mon Dec 11 00:15:33 +0000 2017', 'entities': {'description': {'urls': []}, 'url': {'urls': [{'display_url': 'businessfrance.fr/australie', 'expanded_url': 'http://businessfrance.fr/australie', 'indices': [0, 23], 'url': 'https://t.co/EyeqX5q7kG'}]}}, 'fastFollowersCount': 0, 'favouritesCount': 210, 'hasCustomTimelines': False, 'isTranslator': False, 'mediaCount': 42, 'statusesCount': 55, 'withheldInCountries': [], 'affiliatesHighlightedLabel': {}}, 'extendedEntities': {'media': [{'display_url': 'pic.twitter.com/vU1qCHouDl', 'expanded_url': 'https://twitter.com/FmGuerralves/status/1762265250987200925/photo/1', 'ext_media_availability': {'status': 'Available'}, 'features': {'large': {'faces': [{'h': 36, 'w': 36, 'x': 503, 'y': 187}]}, 'medium': {'faces': [{'h': 36, 'w': 36, 'x': 503, 'y': 187}]}, 'orig': {'faces': [{'h': 36, 'w': 36, 'x': 503, 'y': 187}]}, 'small': {'faces': [{'h': 23, 'w': 23, 'x': 334, 'y': 124}]}}, 'id_str': '1762265223237656576', 'indices': [279, 302], 'media_key': '3_1762265223237656576', 'media_url_https': 'https://pbs.twimg.com/media/GHTS4jca4AAbb7m.jpg', 'original_info': {'focus_rects': [{'h': 469, 'w': 838, 'x': 186, 'y': 0}, {'h': 469, 'w': 469, 'x': 506, 'y': 0}, {'h': 469, 'w': 411, 'x': 535, 'y': 0}, {'h': 469, 'w': 235, 'x': 623, 'y': 0}, {'h': 469, 'w': 1024, 'x': 0, 'y': 0}], 'height': 469, 'width': 1024}, 'sizes': {'large': {'h': 469, 'resize': 'fit', 'w': 1024}, 'medium': {'h': 469, 'resize': 'fit', 'w': 1024}, 'small': {'h': 311, 'resize': 'fit', 'w': 680}, 'thumb': {'h': 150, 'resize': 'crop', 'w': 150}}, 'type': 'photo', 'url': 'https://t.co/vU1qCHouDl'}, {'display_url': 'pic.twitter.com/vU1qCHouDl', 'expanded_url': 'https://twitter.com/FmGuerralves/status/1762265250987200925/photo/1', 'ext_media_availability': {'status': 'Available'}, 'features': {'large': {'faces': [{'h': 40, 'w': 40, 'x': 398, 'y': 489}, {'h': 37, 'w': 37, 'x': 478, 'y': 498}, {'h': 39, 'w': 39, 'x': 709, 'y': 543}]}, 'medium': {'faces': [{'h': 40, 'w': 40, 'x': 398, 'y': 489}, {'h': 37, 'w': 37, 'x': 478, 'y': 498}, {'h': 39, 'w': 39, 'x': 709, 'y': 543}]}, 'orig': {'faces': [{'h': 40, 'w': 40, 'x': 398, 'y': 489}, {'h': 37, 'w': 37, 'x': 478, 'y': 498}, {'h': 39, 'w': 39, 'x': 709, 'y': 543}]}, 'small': {'faces': [{'h': 26, 'w': 26, 'x': 264, 'y': 324}, {'h': 24, 'w': 24, 'x': 317, 'y': 330}, {'h': 25, 'w': 25, 'x': 470, 'y': 360}]}}, 'id_str': '1762265223245991936', 'indices': [279, 302], 'media_key': '3_1762265223245991936', 'media_url_https': 'https://pbs.twimg.com/media/GHTS4jeaEAAEH3g.jpg', 'original_info': {'focus_rects': [{'h': 573, 'w': 1024, 'x': 0, 'y': 195}, {'h': 768, 'w': 768, 'x': 256, 'y': 0}, {'h': 768, 'w': 674, 'x': 350, 'y': 0}, {'h': 768, 'w': 384, 'x': 550, 'y': 0}, {'h': 768, 'w': 1024, 'x': 0, 'y': 0}], 'height': 768, 'width': 1024}, 'sizes': {'large': {'h': 768, 'resize': 'fit', 'w': 1024}, 'medium': {'h': 768, 'resize': 'fit', 'w': 1024}, 'small': {'h': 510, 'resize': 'fit', 'w': 680}, 'thumb': {'h': 150, 'resize': 'crop', 'w': 150}}, 'type': 'photo', 'url': 'https://t.co/vU1qCHouDl'}]}, 'entities': {'hashtags': [{'indices': [131, 138], 'text': 'France'}, {'indices': [139, 149], 'text': 'Australia'}], 'media': [{'display_url': 'pic.twitter.com/vU1qCHouDl', 'expanded_url': 'https://twitter.com/FmGuerralves/status/1762265250987200925/photo/1', 'ext_media_availability': {'status': 'Available'}, 'features': {'large': {'faces': [{'h': 36, 'w': 36, 'x': 503, 'y': 187}]}, 'medium': {'faces': [{'h': 36, 'w': 36, 'x': 503, 'y': 187}]}, 'orig': {'faces': [{'h': 36, 'w': 36, 'x': 503, 'y': 187}]}, 'small': {'faces': [{'h': 23, 'w': 23, 'x': 334, 'y': 124}]}}, 'id_str': '1762265223237656576', 'indices': [279, 302], 'media_key': '3_1762265223237656576', 'media_url_https': 'https://pbs.twimg.com/media/GHTS4jca4AAbb7m.jpg', 'original_info': {'focus_rects': [{'h': 469, 'w': 838, 'x': 186, 'y': 0}, {'h': 469, 'w': 469, 'x': 506, 'y': 0}, {'h': 469, 'w': 411, 'x': 535, 'y': 0}, {'h': 469, 'w': 235, 'x': 623, 'y': 0}, {'h': 469, 'w': 1024, 'x': 0, 'y': 0}], 'height': 469, 'width': 1024}, 'sizes': {'large': {'h': 469, 'resize': 'fit', 'w': 1024}, 'medium': {'h': 469, 'resize': 'fit', 'w': 1024}, 'small': {'h': 311, 'resize': 'fit', 'w': 680}, 'thumb': {'h': 150, 'resize': 'crop', 'w': 150}}, 'type': 'photo', 'url': 'https://t.co/vU1qCHouDl'}, {'display_url': 'pic.twitter.com/vU1qCHouDl', 'expanded_url': 'https://twitter.com/FmGuerralves/status/1762265250987200925/photo/1', 'ext_media_availability': {'status': 'Available'}, 'features': {'large': {'faces': [{'h': 40, 'w': 40, 'x': 398, 'y': 489}, {'h': 37, 'w': 37, 'x': 478, 'y': 498}, {'h': 39, 'w': 39, 'x': 709, 'y': 543}]}, 'medium': {'faces': [{'h': 40, 'w': 40, 'x': 398, 'y': 489}, {'h': 37, 'w': 37, 'x': 478, 'y': 498}, {'h': 39, 'w': 39, 'x': 709, 'y': 543}]}, 'orig': {'faces': [{'h': 40, 'w': 40, 'x': 398, 'y': 489}, {'h': 37, 'w': 37, 'x': 478, 'y': 498}, {'h': 39, 'w': 39, 'x': 709, 'y': 543}]}, 'small': {'faces': [{'h': 26, 'w': 26, 'x': 264, 'y': 324}, {'h': 24, 'w': 24, 'x': 317, 'y': 330}, {'h': 25, 'w': 25, 'x': 470, 'y': 360}]}}, 'id_str': '1762265223245991936', 'indices': [279, 302], 'media_key': '3_1762265223245991936', 'media_url_https': 'https://pbs.twimg.com/media/GHTS4jeaEAAEH3g.jpg', 'original_info': {'focus_rects': [{'h': 573, 'w': 1024, 'x': 0, 'y': 195}, {'h': 768, 'w': 768, 'x': 256, 'y': 0}, {'h': 768, 'w': 674, 'x': 350, 'y': 0}, {'h': 768, 'w': 384, 'x': 550, 'y': 0}, {'h': 768, 'w': 1024, 'x': 0, 'y': 0}], 'height': 768, 'width': 1024}, 'sizes': {'large': {'h': 768, 'resize': 'fit', 'w': 1024}, 'medium': {'h': 768, 'resize': 'fit', 'w': 1024}, 'small': {'h': 510, 'resize': 'fit', 'w': 680}, 'thumb': {'h': 150, 'resize': 'crop', 'w': 150}}, 'type': 'photo', 'url': 'https://t.co/vU1qCHouDl'}], 'symbols': [], 'urls': [], 'user_mentions': [{'id_str': '209825928', 'indices': [80, 90], 'name': 'Gérald DARMANIN', 'screen_name': 'GDarmanin'}]}, 'isRetweet': False, 'isQuote': False, 'media': ['https://pbs.twimg.com/media/GHTS4jca4AAbb7m.jpg', 'https://pbs.twimg.com/media/GHTS4jeaEAAEH3g.jpg']}\n",
      "[2] {'type': 'tweet', 'id': '1762265102085165546', 'url': 'https://x.com/CynthiaGur93764/status/1762265102085165546', 'twitterUrl': 'https://twitter.com/CynthiaGur93764/status/1762265102085165546', 'text': '😐😙😆🧏\\u200d♀️😩👨\\u200d🦱\\n wear interview sometimes fast cooperation used', 'retweetCount': 0, 'replyCount': 0, 'likeCount': 0, 'quoteCount': 0, 'createdAt': 'Mon Feb 26 23:55:16 +0000 2024', 'lang': 'en', 'bookmarkCount': 0, 'isReply': False, 'author': {'type': 'user', 'userName': 'CynthiaGur93764', 'url': 'https://x.com/CynthiaGur93764', 'twitterUrl': 'https://twitter.com/CynthiaGur93764', 'id': '1734899089622355969', 'name': 'Cynthia Gurule', 'isVerified': False, 'profilePicture': 'https://abs.twimg.com/sticky/default_profile_images/default_profile_normal.png', 'description': '', 'location': '', 'followers': 0, 'following': 2, 'status': '', 'canDm': False, 'canMediaTag': True, 'createdAt': 'Wed Dec 13 11:32:40 +0000 2023', 'entities': {'description': {'urls': []}}, 'fastFollowersCount': 0, 'favouritesCount': 0, 'hasCustomTimelines': False, 'isTranslator': False, 'mediaCount': 7, 'statusesCount': 16, 'withheldInCountries': [], 'affiliatesHighlightedLabel': {}}, 'extendedEntities': {}, 'entities': {'hashtags': [], 'symbols': [], 'urls': [], 'user_mentions': []}, 'isRetweet': False, 'isQuote': False, 'media': []}\n",
      "\n",
      "\n",
      "Tweets_and_User_Engagement.csv esimese 2 rida:\n",
      "  index                TweetID   Weekday  Hour  Day  Lang  IsReshare   Reach  \\\n",
      "0     0  tw-682712873332805633  Thursday    17   31    en      False    44.0   \n",
      "1     1  tw-682713045357998080  Thursday    17   31    en       True  1810.0   \n",
      "\n",
      "   RetweetCount  Likes  Klout  Sentiment  \\\n",
      "0           0.0    0.0   35.0        0.0   \n",
      "1           5.0    0.0   53.0        2.0   \n",
      "\n",
      "                                                text  LocationID  \\\n",
      "0  We are hiring: Senior Software Engineer - Prot...      3751.0   \n",
      "1  RT @CodeMineStatus: This is true Amazon Web Se...      3989.0   \n",
      "\n",
      "          UserID  \n",
      "0    tw-40932430  \n",
      "1  tw-3179389829  \n",
      "\n",
      "\n"
     ]
    }
   ],
   "source": [
    "import json\n",
    "import pandas as pd\n",
    "\n",
    "# 1. Lae notes.json ja prindi esimesed read\n",
    "with open(\"notes.json\", \"r\", encoding=\"utf-8\") as f:\n",
    "    notes_data = json.load(f)\n",
    "print(\"notes.json esimese 2 kirjet:\")\n",
    "for i, item in enumerate(notes_data[:2]):\n",
    "    print(f\"[{i+1}] {item}\")\n",
    "print(\"\\n\")\n",
    "\n",
    "# 2. Lae Twitter_New_Dataset.json ja prindi esimesed read\n",
    "with open(\"Twitter_New_Dataset.json\", \"r\", encoding=\"utf-8\") as f:\n",
    "    twitter_data = json.load(f)\n",
    "print(\"Twitter_New_Dataset.json esimese 2 kirjet:\")\n",
    "for i, item in enumerate(twitter_data[:2]):\n",
    "    print(f\"[{i+1}] {item}\")\n",
    "print(\"\\n\")\n",
    "\n",
    "# 3. Lae Tweets_and_User_Engagement.csv ja prindi esimesed read\n",
    "engagement_df = pd.read_csv(\"Tweets_and_User_Engagement.csv\", dtype=str, nrows=2)\n",
    "print(\"Tweets_and_User_Engagement.csv esimese 2 rida:\")\n",
    "print(engagement_df)\n",
    "print(\"\\n\")\n"
   ]
  },
  {
   "cell_type": "code",
   "execution_count": null,
   "id": "db186949",
   "metadata": {},
   "outputs": [
    {
     "ename": "NameError",
     "evalue": "name 'df1' is not defined",
     "output_type": "error",
     "traceback": [
      "\u001b[1;31m---------------------------------------------------------------------------\u001b[0m",
      "\u001b[1;31mNameError\u001b[0m                                 Traceback (most recent call last)",
      "Cell \u001b[1;32mIn[15], line 1\u001b[0m\n\u001b[1;32m----> 1\u001b[0m \u001b[38;5;28mprint\u001b[39m(\u001b[38;5;28mset\u001b[39m(\u001b[43mdf1\u001b[49m[\u001b[38;5;124m\"\u001b[39m\u001b[38;5;124mid_column\u001b[39m\u001b[38;5;124m\"\u001b[39m]) \u001b[38;5;241m&\u001b[39m \u001b[38;5;28mset\u001b[39m(df2[\u001b[38;5;124m\"\u001b[39m\u001b[38;5;124mid_column\u001b[39m\u001b[38;5;124m\"\u001b[39m]))\n",
      "\u001b[1;31mNameError\u001b[0m: name 'df1' is not defined"
     ]
    }
   ],
   "source": [
    "print(set(twitter_data[\"id_column\"]) & set(df2[\"id_column\"]))"
   ]
  }
 ],
 "metadata": {
  "kernelspec": {
   "display_name": "Python 3",
   "language": "python",
   "name": "python3"
  },
  "language_info": {
   "codemirror_mode": {
    "name": "ipython",
    "version": 3
   },
   "file_extension": ".py",
   "mimetype": "text/x-python",
   "name": "python",
   "nbconvert_exporter": "python",
   "pygments_lexer": "ipython3",
   "version": "3.11.9"
  }
 },
 "nbformat": 4,
 "nbformat_minor": 5
}
